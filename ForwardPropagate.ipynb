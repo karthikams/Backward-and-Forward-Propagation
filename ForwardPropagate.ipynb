{
 "cells": [
  {
   "cell_type": "code",
   "execution_count": 4,
   "metadata": {},
   "outputs": [
    {
     "name": "stdout",
     "output_type": "stream",
     "text": [
      "Final output\n",
      "[[ 2.61027161]\n",
      " [ 2.46099362]\n",
      " [ 2.50502577]\n",
      " [ 2.31942137]]\n"
     ]
    }
   ],
   "source": [
    "import numpy as np\n",
    "import pandas as pd\n",
    "\n",
    "#input\n",
    "X = np.array([[1,1,1], [1,0,1],[0,1,1],[0,0,1]])\n",
    "y = np.array([[0],[1],[1],[0]])\n",
    "\n",
    "#adding bias also along with the input matrix\n",
    "Xbias = np.array([[1,1,1,1], [1,1,0,1],[1,0,1,1],[1,0,0,1]])\n",
    "\n",
    "#input weights. Considering two nodes in one hidden layer\n",
    "wx = np.random.random((4,5))\n",
    "\n",
    "#weight for hidden layer 1\n",
    "#wout = np.matrix([[1],[1],[1]])\n",
    "wout = np.random.random((5,1))\n",
    "\n",
    "#product of inputs\n",
    "result_hidden = Xbias.dot(wx)\n",
    "\n",
    "#print(\"WX+B = \")\n",
    "#print(result_hidden)\n",
    "\n",
    "#Applying Activation Function(sigmoid)\n",
    "activation_out = 1/(1+np.exp(-result_hidden))\n",
    "#print(\"Activation output\")\n",
    "#print(activation_out)\n",
    "\n",
    "k = np.array([[1],[1],[1],[1]])\n",
    "#activation_out = np.append(activation_out, y, axis = 1)\n",
    "#print(\"activation output after appending one column for bias\")\n",
    "#print(activation_out)\n",
    "\n",
    "#final output\n",
    "out_final = activation_out.dot(wout)\n",
    "\n",
    "print(\"Final output\")\n",
    "print(out_final)"
   ]
  },
  {
   "cell_type": "code",
   "execution_count": null,
   "metadata": {
    "collapsed": true
   },
   "outputs": [],
   "source": []
  },
  {
   "cell_type": "code",
   "execution_count": null,
   "metadata": {
    "collapsed": true
   },
   "outputs": [],
   "source": []
  }
 ],
 "metadata": {
  "kernelspec": {
   "display_name": "Python 3",
   "language": "python",
   "name": "python3"
  },
  "language_info": {
   "codemirror_mode": {
    "name": "ipython",
    "version": 3
   },
   "file_extension": ".py",
   "mimetype": "text/x-python",
   "name": "python",
   "nbconvert_exporter": "python",
   "pygments_lexer": "ipython3",
   "version": "3.6.3"
  }
 },
 "nbformat": 4,
 "nbformat_minor": 2
}
